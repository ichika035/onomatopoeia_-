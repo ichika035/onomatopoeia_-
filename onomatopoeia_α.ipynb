{
 "cells": [
  {
   "cell_type": "code",
   "execution_count": null,
   "id": "30a54d0f-2475-429e-bed4-a5573e5e48bf",
   "metadata": {},
   "outputs": [],
   "source": [
    "\"\"\"\n",
    "入力された単語ともっとも類似度が高いものを選定し、その単語をひらがなに変換した上で、選された単語の上位二文字を繰り返して出力する\n",
    "\n",
    "１．類似度計算＆類似度が最も高い語を取得\n",
    "２．取得した文字をひらがなに変換\n",
    "3．取得した文字が１文字か、それ以上かで条件分岐\n",
    "3．1(取得した情報が1文字の場合)その一文字を、ひらがなの状態で４文字以内で、繰り返して表示\n",
    "３．２(取得した情報が1文字以上の場合).戦闘の二文字を取得して、一度だけ繰り返して表示\n",
    "\n",
    "\"\"\"\n",
    "import gensim\n",
    "from pykakasi import kakasi\n",
    "\n",
    "#標準入力\n",
    "input_str = input()\n",
    "\n",
    "#類似度計算\n",
    "\n",
    "chive = gensim.models.KeyedVectors.load('chive-1.2-mc90_gensim/chive-1.2-mc90.kv')\n",
    "\n",
    "#類似度が最も高かったものがこれ\n",
    "similar = chive.most_similar([input_str], topn=1)[0][0]\n",
    "\n",
    "\n",
    "# kakasi オブジェクトを初期化\n",
    "kakasi = kakasi()\n",
    "\n",
    "# 変換モードを設定\n",
    "kakasi.setMode(\"J\", \"H\")  # 漢字をひらがなに変換\n",
    "kakasi.setMode(\"K\", \"H\")  # カタカナをひらがなに変換\n",
    "\n",
    "# 変換オブジェクトを取得\n",
    "conv = kakasi.getConverter()\n",
    "\n",
    "# 入力された文字列をひらがなに変換\n",
    "hiragana_text = conv.do(similar)\n",
    "\n",
    "first_two_characters = hiragana_text[:2]\n",
    "\n",
    "onomatopoeia = first_two_characters*2\n",
    "\n",
    "print(onomatopoeia)\n",
    "\n",
    "\n",
    "\n",
    "\"\"\"\n",
    "類似度を見たい人は以下を試してください。topnの値を変えると、表示される類似度の数が増えます。\n",
    "chive.most_similar(['メロンパン'], topn=5)\n",
    "\n",
    "\"\"\""
   ]
  }
 ],
 "metadata": {
  "kernelspec": {
   "display_name": "oden_npl",
   "language": "python",
   "name": "oden_npl"
  },
  "language_info": {
   "codemirror_mode": {
    "name": "ipython",
    "version": 3
   },
   "file_extension": ".py",
   "mimetype": "text/x-python",
   "name": "python",
   "nbconvert_exporter": "python",
   "pygments_lexer": "ipython3",
   "version": "3.6.12"
  }
 },
 "nbformat": 4,
 "nbformat_minor": 5
}
