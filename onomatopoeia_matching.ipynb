{
 "cells": [
  {
   "cell_type": "code",
   "execution_count": null,
   "id": "b5e0f133-92c5-41a2-973c-ce0aea13f4a4",
   "metadata": {},
   "outputs": [],
   "source": [
    "import pandas as pd\n",
    "from gensim.models import FastText\n",
    "from sklearn.metrics.pairwise import cosine_similarity\n",
    "\n",
    "# CSVファイルからオノマトペを読み込む\n",
    "df = pd.read_csv('onoma_list.csv', header=None)\n",
    "onoma_list = df[0].tolist()\n",
    "\n",
    "# 単語埋め込みの学習（ここでは文脈がないため、各単語を個別の文として扱う）\n",
    "model = FastText([list(word) for word in onoma_list], min_count=1)\n",
    "\n",
    "# 新たな単語を入力\n",
    "input_word = onomatopoeia\n",
    "\n",
    "# 類似したオノマトペとその類似度を保存する辞書\n",
    "similar_words = {}\n",
    "\n",
    "for word in onoma_list:\n",
    "    # コサイン類似度を計算\n",
    "    similarity = cosine_similarity([model.wv[word]], [model.wv[input_word]])\n",
    "    similar_words[word] = similarity[0][0]  # similarityは2D配列なので1Dに変換\n",
    "\n",
    "# 類似度でソートして上位5個を取得\n",
    "sorted_words = sorted(similar_words.items(), key=lambda x: x[1], reverse=True)[:5]\n",
    "\n",
    "# 類似度が高い順にオノマトペとその類似度を出力\n",
    "for word, sim in sorted_words:\n",
    "    print(f'Word: {word}, Similarity: {sim}')\n"
   ]
  }
 ],
 "metadata": {
  "kernelspec": {
   "display_name": "npl_tes",
   "language": "python",
   "name": "npl_tes"
  },
  "language_info": {
   "codemirror_mode": {
    "name": "ipython",
    "version": 3
   },
   "file_extension": ".py",
   "mimetype": "text/x-python",
   "name": "python",
   "nbconvert_exporter": "python",
   "pygments_lexer": "ipython3",
   "version": "3.9.13"
  }
 },
 "nbformat": 4,
 "nbformat_minor": 5
}
